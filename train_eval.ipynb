{
 "cells": [
  {
   "cell_type": "code",
   "execution_count": 1,
   "metadata": {},
   "outputs": [],
   "source": [
    "import math\n",
    "\n",
    "from config import Config\n",
    "from recommenders import HybridRecommender\n",
    "from train_pipeline import (\n",
    "    prepare_test_train_df,\n",
    "    train_collaborative_filtering_model,\n",
    "    train_content_based_master_game_model,\n",
    "    train_content_based_feature_derived_model,\n",
    "    evaluate_results\n",
    ")"
   ]
  },
  {
   "cell_type": "markdown",
   "metadata": {},
   "source": [
    "## Train basic recommenders"
   ]
  },
  {
   "cell_type": "code",
   "execution_count": 2,
   "metadata": {},
   "outputs": [],
   "source": [
    "conf = Config.load_from_file()\n",
    "\n",
    "# read users data\n",
    "train_df, test_df = prepare_test_train_df(conf)\n",
    "\n",
    "# train recommenders\n",
    "collaborative_filtering_recommender, scaler = train_collaborative_filtering_model(train_df)\n",
    "content_based_master_game_recommender = train_content_based_master_game_model(conf)\n",
    "content_based_feature_derived_recommender = train_content_based_feature_derived_model(conf)\n",
    "recommenders = [\n",
    "    collaborative_filtering_recommender,\n",
    "    content_based_master_game_recommender,\n",
    "    content_based_feature_derived_recommender\n",
    "]"
   ]
  },
  {
   "cell_type": "markdown",
   "metadata": {},
   "source": [
    "## Search coefficients for the hybrid model"
   ]
  },
  {
   "cell_type": "code",
   "execution_count": 3,
   "metadata": {},
   "outputs": [],
   "source": [
    "coef_range = [0, 0.01, 0.1, 0.2, 0.5, 0.8, 0.9, 0.99, 1.0]\n",
    "results = []\n",
    "for c1 in coef_range:\n",
    "    for c2 in coef_range:\n",
    "        for c3 in coef_range:\n",
    "            if math.isclose(c1 + c2 + c3, 1, abs_tol=1e-6):\n",
    "                coefficients = [c1, c2, c3]\n",
    "                hybrid_recommender = HybridRecommender(recommenders, coefficients)\n",
    "                metric = evaluate_results(\n",
    "                    conf=conf,\n",
    "                    recommender=hybrid_recommender,\n",
    "                    scaler=scaler,\n",
    "                    test_df=test_df\n",
    "\n",
    "                )\n",
    "                results.append((coefficients, metric))"
   ]
  },
  {
   "cell_type": "markdown",
   "metadata": {},
   "source": [
    "## Top 10 results"
   ]
  },
  {
   "cell_type": "code",
   "execution_count": 4,
   "metadata": {
    "pycharm": {
     "name": "#%%\n"
    }
   },
   "outputs": [
    {
     "name": "stdout",
     "output_type": "stream",
     "text": [
      "                        Coefficients                        | Metrics\n",
      "Collaborative filtering | Content-based 1 | Content-based 2 | Precision@5\n",
      "1.00                    | 0.00            | 0.00            |  0.438\n",
      "0.99                    | 0.01            | 0.00            |  0.437\n",
      "0.99                    | 0.00            | 0.01            |  0.437\n",
      "0.90                    | 0.10            | 0.00            |  0.435\n",
      "0.80                    | 0.20            | 0.00            |  0.426\n",
      "0.90                    | 0.00            | 0.10            |  0.425\n",
      "0.80                    | 0.10            | 0.10            |  0.422\n",
      "0.80                    | 0.00            | 0.20            |  0.409\n",
      "0.50                    | 0.50            | 0.00            |  0.397\n",
      "0.50                    | 0.00            | 0.50            |  0.358\n"
     ]
    }
   ],
   "source": [
    "results.sort(key=lambda x: x[1], reverse=True)\n",
    "print(f\"{' '*24}Coefficients{' '*24}| Metrics\")\n",
    "print(f\"Collaborative filtering | Content-based 1 | Content-based 2 | Precision@{conf.precision_at_k}\")\n",
    "for (c1, c2, c3), metric in results[:10]:\n",
    "    print(f\"{c1:0.2f}{' '*20}| {c2:0.2f}{' '*12}| {c3:0.2f}{' '*12}| {metric: 0.3f}\")"
   ]
  }
 ],
 "metadata": {
  "kernelspec": {
   "display_name": "Python 3",
   "language": "python",
   "name": "python3"
  },
  "language_info": {
   "codemirror_mode": {
    "name": "ipython",
    "version": 3
   },
   "file_extension": ".py",
   "mimetype": "text/x-python",
   "name": "python",
   "nbconvert_exporter": "python",
   "pygments_lexer": "ipython3",
   "version": "3.8.5"
  }
 },
 "nbformat": 4,
 "nbformat_minor": 4
}